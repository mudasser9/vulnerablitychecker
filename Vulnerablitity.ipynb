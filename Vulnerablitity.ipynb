{
 "cells": [
  {
   "cell_type": "code",
   "execution_count": 9,
   "id": "286062bb-3744-41df-876b-75941337ff04",
   "metadata": {},
   "outputs": [],
   "source": [
    "import gensim\n",
    "from gensim.models import Word2Vec\n",
    "import pandas as pd\n",
    "from sklearn.model_selection import train_test_split\n",
    "from sklearn.preprocessing import LabelEncoder\n",
    "import tensorflow as tf\n",
    "from tensorflow.keras.models import Sequential\n",
    "from tensorflow.keras.layers import Dense, Embedding, LSTM\n",
    "from tensorflow.keras.preprocessing.text import Tokenizer\n",
    "from tensorflow.keras.preprocessing.sequence import pad_sequences\n",
    "import pandas as pd"
   ]
  },
  {
   "cell_type": "markdown",
   "id": "b7206fa7-160d-48b3-aef7-156429767615",
   "metadata": {},
   "source": [
    "# Step 1 Load the Dataset"
   ]
  },
  {
   "cell_type": "code",
   "execution_count": 11,
   "id": "c311c95b-30d5-4e97-bd10-e29d0c7ccabb",
   "metadata": {},
   "outputs": [],
   "source": [
    "data = pd.read_csv('Security_Vulnerabilities.csv')\n",
    "texts = data['source_code'].values\n",
    "labels = data['vulnerable'].values\n",
    "\n",
    "label_encoder = LabelEncoder()\n",
    "labels = label_encoder.fit_transform(labels)"
   ]
  },
  {
   "cell_type": "markdown",
   "id": "69c9ca3f-392d-478a-b822-2990ceddf607",
   "metadata": {},
   "source": [
    "# Step 2 Tokenize the dataset"
   ]
  },
  {
   "cell_type": "code",
   "execution_count": 12,
   "id": "98c5613a-4ae9-442d-9b8c-e5fd0905812b",
   "metadata": {},
   "outputs": [],
   "source": [
    "tokenizer = Tokenizer(num_words=5000, oov_token=\"<OOV>\")\n",
    "tokenizer.fit_on_texts(texts)\n",
    "sequences = tokenizer.texts_to_sequences(texts)\n",
    "padded_sequences = pad_sequences(sequences, padding='post', maxlen=100)"
   ]
  },
  {
   "cell_type": "markdown",
   "id": "e0c7cea5-6eb2-415b-97be-a9ebcb08434c",
   "metadata": {},
   "source": [
    "# Step 3 Word 2 Vec Embedding"
   ]
  },
  {
   "cell_type": "code",
   "execution_count": 13,
   "id": "82fb6001-cfdb-440b-83a6-81b5b70bf545",
   "metadata": {},
   "outputs": [],
   "source": [
    "word2vec_model = Word2Vec([text.split() for text in texts], vector_size=100,\n",
    "window=5, min_count=1)\n",
    "embedding_matrix = word2vec_model.wv.vectors\n",
    "vocab_size = len(tokenizer.word_index) + 1\n",
    "embedding_dim = 100\n"
   ]
  },
  {
   "cell_type": "markdown",
   "id": "2302ffd2-f626-4589-8112-fd65aa11c534",
   "metadata": {},
   "source": [
    "# Step 4 Build the Deep Neural Networks"
   ]
  },
  {
   "cell_type": "code",
   "execution_count": 16,
   "id": "37dd7d7a-a0e0-40d3-af68-8afb48c66860",
   "metadata": {},
   "outputs": [
    {
     "name": "stdout",
     "output_type": "stream",
     "text": [
      "(5169, 100)\n"
     ]
    }
   ],
   "source": [
    "print(embedding_matrix.shape)  # This should print (vocab_size, embedding_dim)\n"
   ]
  },
  {
   "cell_type": "code",
   "execution_count": 20,
   "id": "33df1072-fe8b-448c-8327-4f5ff8b9df4d",
   "metadata": {},
   "outputs": [],
   "source": [
    "model = Sequential()\n",
    "model.add(Embedding(input_dim= 5169,\n",
    "                    output_dim= 100,  \n",
    "                    weights=[embedding_matrix],\n",
    "                    input_length=100,\n",
    "                    trainable=False))"
   ]
  },
  {
   "cell_type": "code",
   "execution_count": 21,
   "id": "80028744-d87c-4822-a387-83e4251f1047",
   "metadata": {},
   "outputs": [],
   "source": [
    "# Add LSTM layer or Dense layer\n",
    "model.add(LSTM(128, return_sequences=False))\n",
    "model.add(Dense(64, activation='relu'))\n",
    "model.add(Dense(1, activation='sigmoid')) # Binary classification (vulnerable or not)"
   ]
  },
  {
   "cell_type": "code",
   "execution_count": 22,
   "id": "5353e596-c137-4d52-a524-6639ec0072e6",
   "metadata": {},
   "outputs": [],
   "source": [
    "model.compile(optimizer='adam', loss='binary_crossentropy', metrics=['accuracy'])"
   ]
  },
  {
   "cell_type": "markdown",
   "id": "d909d3f6-8116-420b-a47e-3b7e4530978d",
   "metadata": {},
   "source": [
    "# Step 5 Train the model "
   ]
  },
  {
   "cell_type": "code",
   "execution_count": 23,
   "id": "7aac1c81-705b-4be9-a135-8947b604ff12",
   "metadata": {},
   "outputs": [
    {
     "name": "stdout",
     "output_type": "stream",
     "text": [
      "Epoch 1/10\n",
      "84/84 [==============================] - 19s 170ms/step - loss: 0.6960 - accuracy: 0.5097 - val_loss: 0.6933 - val_accuracy: 0.4836\n",
      "Epoch 2/10\n",
      "84/84 [==============================] - 13s 154ms/step - loss: 0.6917 - accuracy: 0.5291 - val_loss: 0.6933 - val_accuracy: 0.4836\n",
      "Epoch 3/10\n",
      "84/84 [==============================] - 13s 154ms/step - loss: 0.6936 - accuracy: 0.5134 - val_loss: 0.6926 - val_accuracy: 0.5164\n",
      "Epoch 4/10\n",
      "84/84 [==============================] - 13s 150ms/step - loss: 0.6932 - accuracy: 0.5261 - val_loss: 0.6927 - val_accuracy: 0.5164\n",
      "Epoch 5/10\n",
      "84/84 [==============================] - 13s 156ms/step - loss: 0.6919 - accuracy: 0.5254 - val_loss: 0.6932 - val_accuracy: 0.4836\n",
      "Epoch 6/10\n",
      "84/84 [==============================] - 14s 162ms/step - loss: 0.6923 - accuracy: 0.5276 - val_loss: 0.6934 - val_accuracy: 0.5164\n",
      "Epoch 7/10\n",
      "84/84 [==============================] - 16s 195ms/step - loss: 0.6912 - accuracy: 0.5328 - val_loss: 0.6928 - val_accuracy: 0.5164\n",
      "Epoch 8/10\n",
      "84/84 [==============================] - 15s 178ms/step - loss: 0.6899 - accuracy: 0.5157 - val_loss: 0.6978 - val_accuracy: 0.5164\n",
      "Epoch 9/10\n",
      "84/84 [==============================] - 14s 164ms/step - loss: 0.6921 - accuracy: 0.5328 - val_loss: 0.6934 - val_accuracy: 0.5164\n",
      "Epoch 10/10\n",
      "84/84 [==============================] - 14s 166ms/step - loss: 0.6916 - accuracy: 0.5328 - val_loss: 0.6930 - val_accuracy: 0.5164\n"
     ]
    },
    {
     "data": {
      "text/plain": [
       "<keras.callbacks.History at 0x160ca2ba250>"
      ]
     },
     "execution_count": 23,
     "metadata": {},
     "output_type": "execute_result"
    }
   ],
   "source": [
    "X_train, X_test, y_train, y_test = train_test_split(padded_sequences, labels,\n",
    "test_size=0.2, random_state=42)\n",
    "model.fit(X_train, y_train, epochs=10, validation_data=(X_test, y_test),\n",
    "batch_size=32)"
   ]
  },
  {
   "cell_type": "markdown",
   "id": "f251801f-3cf1-4eea-b97d-d4af4db6177e",
   "metadata": {},
   "source": [
    "# Step 6 Evaluate the model"
   ]
  },
  {
   "cell_type": "code",
   "execution_count": 24,
   "id": "0b3a1c7b-c5e5-49cf-aa74-a18425b6fbb5",
   "metadata": {},
   "outputs": [
    {
     "name": "stdout",
     "output_type": "stream",
     "text": [
      "21/21 [==============================] - 1s 49ms/step - loss: 0.6930 - accuracy: 0.5164\n",
      "Test Accuracy: 51.64%\n",
      "1/1 [==============================] - 1s 865ms/step\n",
      "Vulnerability Prediction: No\n"
     ]
    }
   ],
   "source": [
    "loss, accuracy = model.evaluate(X_test, y_test)\n",
    "print(f\"Test Accuracy: {accuracy * 100:.2f}%\")\n",
    "# Example of predicting vulnerability\n",
    "new_code_sample = \"int main() { int a = 0; while(a != 10) { a++; } return 0; }\"\n",
    "new_sequence = tokenizer.texts_to_sequences([new_code_sample])\n",
    "new_padded_sequence = pad_sequences(new_sequence, maxlen=100)\n",
    "prediction = model.predict(new_padded_sequence)\n",
    "vulnerable = prediction[0][0] > 0.5 # If > 0.5, we classify it as vulnerable\n",
    "print(f\"Vulnerability Prediction: {'Yes' if vulnerable else 'No'}\")"
   ]
  },
  {
   "cell_type": "code",
   "execution_count": null,
   "id": "5f2fe342-8b90-46bc-8f8c-27e7634652b9",
   "metadata": {},
   "outputs": [],
   "source": []
  }
 ],
 "metadata": {
  "kernelspec": {
   "display_name": "Python 3 (ipykernel)",
   "language": "python",
   "name": "python3"
  },
  "language_info": {
   "codemirror_mode": {
    "name": "ipython",
    "version": 3
   },
   "file_extension": ".py",
   "mimetype": "text/x-python",
   "name": "python",
   "nbconvert_exporter": "python",
   "pygments_lexer": "ipython3",
   "version": "3.9.20"
  }
 },
 "nbformat": 4,
 "nbformat_minor": 5
}
